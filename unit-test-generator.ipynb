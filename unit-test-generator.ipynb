{
 "cells": [
  {
   "cell_type": "markdown",
   "id": "b2a45ec6-7d9b-458f-a65e-1d2a930ec677",
   "metadata": {},
   "source": [
    "# Unit Test Generator\n",
    "\n",
    "This notebook generates unit tests for code."
   ]
  },
  {
   "cell_type": "code",
   "execution_count": null,
   "id": "12adbe1c-9b54-40ab-b8f9-cfed0820a02a",
   "metadata": {},
   "outputs": [],
   "source": [
    "from dotenv import load_dotenv\n",
    "from openai import OpenAI\n",
    "import gradio as gr"
   ]
  },
  {
   "cell_type": "code",
   "execution_count": null,
   "id": "f38d6c03-1894-47ac-b557-be1e277c4b37",
   "metadata": {},
   "outputs": [],
   "source": [
    "CODEQWEN_MODEL = \"codeqwen\"\n",
    "DEEPSEEK_MODEL = \"deepseek-r1\"\n",
    "LLAMA_MODEL = \"llama3.2\"\n",
    "ollama = OpenAI(base_url='http://localhost:11434/v1', api_key='dummy')"
   ]
  },
  {
   "cell_type": "code",
   "execution_count": null,
   "id": "9d2f90c7-05a8-473c-9b4e-6178089eca12",
   "metadata": {},
   "outputs": [],
   "source": [
    "system_prompt = \"You are a coding assistant who generates unit tests for given code. \"\n",
    "system_prompt += \"Your response should include only the generated unit tests. Do not include summary text or explanations in your response.\""
   ]
  },
  {
   "cell_type": "code",
   "execution_count": null,
   "id": "adbf4c0c-b6d0-4813-a3f2-8df75546b4b4",
   "metadata": {},
   "outputs": [],
   "source": [
    "def get_user_prompt(code):\n",
    "    user_prompt = f\"Generate unit tests for the following code.\\n\\n{code}\"\n",
    "    return user_prompt"
   ]
  },
  {
   "cell_type": "code",
   "execution_count": null,
   "id": "c0ff7ddc-bfc3-483a-8505-6a5d524a3ebc",
   "metadata": {},
   "outputs": [],
   "source": [
    "def get_messages(code):\n",
    "    messages = [\n",
    "        {'role': 'system', 'content': system_prompt},\n",
    "        {'role': 'user', 'content': get_user_prompt(code)}\n",
    "    ]\n",
    "    return messages"
   ]
  },
  {
   "cell_type": "code",
   "execution_count": null,
   "id": "a0bbdff0-abb7-46c6-a86e-ac42b6f5463e",
   "metadata": {},
   "outputs": [],
   "source": [
    "def generate_tests(code, model):\n",
    "    model_name = \"\"\n",
    "    \n",
    "    match model:\n",
    "        case 'CodeQwen':\n",
    "            model_name = CODEQWEN_MODEL\n",
    "        case 'DeepSeek':\n",
    "            model_name = DEEPSEEK_MODEL\n",
    "        case 'Llama':\n",
    "            model_name = LLAMA_MODEL\n",
    "            \n",
    "    stream = ollama.chat.completions.create(model=model_name, messages=get_messages(code), stream=True)\n",
    "    reply = \"\"\n",
    "    for chunk in stream:\n",
    "        fragment = chunk.choices[0].delta.content or \"\"\n",
    "        reply += fragment\n",
    "        yield reply"
   ]
  },
  {
   "cell_type": "code",
   "execution_count": null,
   "id": "8bb592e3-ade2-48e3-93b7-1a2e1d46c297",
   "metadata": {},
   "outputs": [],
   "source": [
    "pi = \"\"\"\n",
    "import time\n",
    "\n",
    "def calculate(iterations, param1, param2):\n",
    "    result = 1.0\n",
    "    for i in range(1, iterations+1):\n",
    "        j = i * param1 - param2\n",
    "        result -= (1/j)\n",
    "        j = i * param1 + param2\n",
    "        result += (1/j)\n",
    "    return result\n",
    "\n",
    "start_time = time.time()\n",
    "result = calculate(100_000_000, 4, 1) * 4\n",
    "end_time = time.time()\n",
    "\n",
    "print(f\"Result: {result:.12f}\")\n",
    "print(f\"Execution Time: {(end_time - start_time):.6f} seconds\")\n",
    "\"\"\""
   ]
  },
  {
   "cell_type": "code",
   "execution_count": null,
   "id": "352b386c-2f70-47b4-8a63-01ccdc337254",
   "metadata": {},
   "outputs": [],
   "source": [
    "with gr.Blocks() as ui:\n",
    "    gr.Markdown(\"## Unit Test Generator\")\n",
    "    with gr.Row():\n",
    "        code = gr.Textbox(label=\"Code:\", value=pi, lines=10)\n",
    "        tests = gr.Textbox(label=\"Unit tests:\", lines=10)\n",
    "    with gr.Row():\n",
    "        model = gr.Dropdown([\"CodeQwen\", \"DeepSeek\", \"Llama\"], label=\"Select model\", value=\"CodeQwen\")\n",
    "        comment = gr.Button(\"Generate unit tests\")\n",
    "\n",
    "    comment.click(generate_tests, inputs=[code, model], outputs=[tests])\n",
    "\n",
    "ui.launch(inbrowser=True)"
   ]
  },
  {
   "cell_type": "code",
   "execution_count": null,
   "id": "21930e70-d775-456f-aba4-81d23004f96a",
   "metadata": {},
   "outputs": [],
   "source": []
  }
 ],
 "metadata": {
  "kernelspec": {
   "display_name": "Python 3 (ipykernel)",
   "language": "python",
   "name": "python3"
  },
  "language_info": {
   "codemirror_mode": {
    "name": "ipython",
    "version": 3
   },
   "file_extension": ".py",
   "mimetype": "text/x-python",
   "name": "python",
   "nbconvert_exporter": "python",
   "pygments_lexer": "ipython3",
   "version": "3.11.11"
  }
 },
 "nbformat": 4,
 "nbformat_minor": 5
}
