{
 "cells": [
  {
   "cell_type": "markdown",
   "id": "b2a45ec6-7d9b-458f-a65e-1d2a930ec677",
   "metadata": {},
   "source": [
    "# Unit Test Generator\n",
    "\n",
    "This notebook generates unit tests for code."
   ]
  },
  {
   "cell_type": "code",
   "execution_count": null,
   "id": "12adbe1c-9b54-40ab-b8f9-cfed0820a02a",
   "metadata": {},
   "outputs": [],
   "source": []
  }
 ],
 "metadata": {
  "kernelspec": {
   "display_name": "Python 3 (ipykernel)",
   "language": "python",
   "name": "python3"
  },
  "language_info": {
   "codemirror_mode": {
    "name": "ipython",
    "version": 3
   },
   "file_extension": ".py",
   "mimetype": "text/x-python",
   "name": "python",
   "nbconvert_exporter": "python",
   "pygments_lexer": "ipython3",
   "version": "3.11.11"
  }
 },
 "nbformat": 4,
 "nbformat_minor": 5
}
