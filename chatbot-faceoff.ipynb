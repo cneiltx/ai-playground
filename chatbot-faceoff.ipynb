{
 "cells": [
  {
   "cell_type": "markdown",
   "id": "06cf3063-9f3e-4551-a0d5-f08d9cabb927",
   "metadata": {},
   "source": [
    "# Chatbot Faceoff\n",
    "\n",
    "This notebook enables a faceoff between two models chatting with one another."
   ]
  },
  {
   "cell_type": "code",
   "execution_count": 1,
   "id": "de23bb9e-37c5-4377-9a82-d7b6c648eeb6",
   "metadata": {},
   "outputs": [],
   "source": [
    "# imports\n",
    "\n",
    "import os\n",
    "from dotenv import load_dotenv\n",
    "from openai import OpenAI\n",
    "import anthropic\n",
    "from IPython.display import Markdown, display, update_display"
   ]
  },
  {
   "cell_type": "code",
   "execution_count": 2,
   "id": "f0a8ab2b-6134-4104-a1bc-c3cd7ea4cd36",
   "metadata": {},
   "outputs": [],
   "source": [
    "# import for google\n",
    "# in rare cases, this seems to give an error on some systems, or even crashes the kernel\n",
    "# If this happens to you, simply ignore this cell - I give an alternative approach for using Gemini later\n",
    "\n",
    "import google.generativeai"
   ]
  },
  {
   "cell_type": "code",
   "execution_count": 3,
   "id": "1179b4c5-cd1f-4131-a876-4c9f3f38d2ba",
   "metadata": {},
   "outputs": [
    {
     "name": "stdout",
     "output_type": "stream",
     "text": [
      "OpenAI API Key exists and begins sk-proj-\n",
      "Anthropic API Key exists and begins sk-ant-\n",
      "Google API Key exists and begins AIzaSyAX\n"
     ]
    }
   ],
   "source": [
    "# Load environment variables in a file called .env\n",
    "# Print the key prefixes to help with any debugging\n",
    "\n",
    "load_dotenv()\n",
    "openai_api_key = os.getenv('OPENAI_API_KEY')\n",
    "anthropic_api_key = os.getenv('ANTHROPIC_API_KEY')\n",
    "google_api_key = os.getenv('GOOGLE_API_KEY')\n",
    "\n",
    "if openai_api_key:\n",
    "    print(f\"OpenAI API Key exists and begins {openai_api_key[:8]}\")\n",
    "else:\n",
    "    print(\"OpenAI API Key not set\")\n",
    "    \n",
    "if anthropic_api_key:\n",
    "    print(f\"Anthropic API Key exists and begins {anthropic_api_key[:7]}\")\n",
    "else:\n",
    "    print(\"Anthropic API Key not set\")\n",
    "\n",
    "if google_api_key:\n",
    "    print(f\"Google API Key exists and begins {google_api_key[:8]}\")\n",
    "else:\n",
    "    print(\"Google API Key not set\")"
   ]
  },
  {
   "cell_type": "code",
   "execution_count": 4,
   "id": "797fe7b0-ad43-42d2-acf0-e4f309b112f0",
   "metadata": {},
   "outputs": [],
   "source": [
    "# Connect to OpenAI, Anthropic\n",
    "\n",
    "openai = OpenAI()\n",
    "\n",
    "claude = anthropic.Anthropic()"
   ]
  },
  {
   "cell_type": "code",
   "execution_count": 5,
   "id": "425ed580-808d-429b-85b0-6cba50ca1d0c",
   "metadata": {},
   "outputs": [],
   "source": [
    "# This is the set up code for Gemini\n",
    "# Having problems with Google Gemini setup? Then just ignore this cell; when we use Gemini, I'll give you an alternative that bypasses this library altogether\n",
    "\n",
    "google.generativeai.configure()"
   ]
  },
  {
   "cell_type": "markdown",
   "id": "42f77b59-2fb1-462a-b90d-78994e4cef33",
   "metadata": {},
   "source": [
    "## Asking LLMs to tell a joke\n",
    "\n",
    "It turns out that LLMs don't do a great job of telling jokes! Let's compare a few models.\n",
    "Later we will be putting LLMs to better use!\n",
    "\n",
    "### What information is included in the API\n",
    "\n",
    "Typically we'll pass to the API:\n",
    "- The name of the model that should be used\n",
    "- A system message that gives overall context for the role the LLM is playing\n",
    "- A user message that provides the actual prompt\n",
    "\n",
    "There are other parameters that can be used, including **temperature** which is typically between 0 and 1; higher for more random output; lower for more focused and deterministic."
   ]
  },
  {
   "cell_type": "code",
   "execution_count": 6,
   "id": "378a0296-59a2-45c6-82eb-941344d3eeff",
   "metadata": {},
   "outputs": [],
   "source": [
    "system_message = \"You are an assistant that is great at telling jokes\"\n",
    "user_prompt = \"Tell a light-hearted joke for an audience of Data Scientists\""
   ]
  },
  {
   "cell_type": "code",
   "execution_count": 7,
   "id": "f4d56a0f-2a3d-484d-9344-0efa6862aff4",
   "metadata": {},
   "outputs": [],
   "source": [
    "prompts = [\n",
    "    {\"role\": \"system\", \"content\": system_message},\n",
    "    {\"role\": \"user\", \"content\": user_prompt}\n",
    "  ]"
   ]
  },
  {
   "cell_type": "code",
   "execution_count": null,
   "id": "3b3879b6-9a55-4fed-a18c-1ea2edfaf397",
   "metadata": {},
   "outputs": [],
   "source": [
    "# GPT-3.5-Turbo\n",
    "\n",
    "completion = openai.chat.completions.create(model='gpt-3.5-turbo', messages=prompts)\n",
    "print(completion.choices[0].message.content)"
   ]
  },
  {
   "cell_type": "code",
   "execution_count": null,
   "id": "3d2d6beb-1b81-466f-8ed1-40bf51e7adbf",
   "metadata": {},
   "outputs": [],
   "source": [
    "# GPT-4o-mini\n",
    "# Temperature setting controls creativity\n",
    "\n",
    "completion = openai.chat.completions.create(\n",
    "    model='gpt-4o-mini',\n",
    "    messages=prompts,\n",
    "    temperature=0.7\n",
    ")\n",
    "print(completion.choices[0].message.content)"
   ]
  },
  {
   "cell_type": "code",
   "execution_count": null,
   "id": "f1f54beb-823f-4301-98cb-8b9a49f4ce26",
   "metadata": {},
   "outputs": [],
   "source": [
    "# GPT-4o\n",
    "\n",
    "completion = openai.chat.completions.create(\n",
    "    model='gpt-4o',\n",
    "    messages=prompts,\n",
    "    temperature=0.4\n",
    ")\n",
    "print(completion.choices[0].message.content)"
   ]
  },
  {
   "cell_type": "code",
   "execution_count": null,
   "id": "1ecdb506-9f7c-4539-abae-0e78d7f31b76",
   "metadata": {},
   "outputs": [],
   "source": [
    "# Claude 3.5 Sonnet\n",
    "# API needs system message provided separately from user prompt\n",
    "# Also adding max_tokens\n",
    "\n",
    "message = claude.messages.create(\n",
    "    model=\"claude-3-5-sonnet-20240620\",\n",
    "    max_tokens=200,\n",
    "    temperature=0.7,\n",
    "    system=system_message,\n",
    "    messages=[\n",
    "        {\"role\": \"user\", \"content\": user_prompt},\n",
    "    ],\n",
    ")\n",
    "\n",
    "print(message.content[0].text)"
   ]
  },
  {
   "cell_type": "code",
   "execution_count": null,
   "id": "769c4017-4b3b-4e64-8da7-ef4dcbe3fd9f",
   "metadata": {},
   "outputs": [],
   "source": [
    "# Claude 3.5 Sonnet again\n",
    "# Now let's add in streaming back results\n",
    "\n",
    "result = claude.messages.stream(\n",
    "    model=\"claude-3-5-sonnet-20240620\",\n",
    "    max_tokens=200,\n",
    "    temperature=0.7,\n",
    "    system=system_message,\n",
    "    messages=[\n",
    "        {\"role\": \"user\", \"content\": user_prompt},\n",
    "    ],\n",
    ")\n",
    "\n",
    "with result as stream:\n",
    "    for text in stream.text_stream:\n",
    "            print(text, end=\"\", flush=True)"
   ]
  },
  {
   "cell_type": "code",
   "execution_count": 9,
   "id": "6df48ce5-70f8-4643-9a50-b0b5bfdb66ad",
   "metadata": {},
   "outputs": [
    {
     "name": "stdout",
     "output_type": "stream",
     "text": [
      "Why was the data scientist sad?  Because they didn't get arrays!\n",
      "\n"
     ]
    }
   ],
   "source": [
    "# The API for Gemini has a slightly different structure.\n",
    "# I've heard that on some PCs, this Gemini code causes the Kernel to crash.\n",
    "# If that happens to you, please skip this cell and use the next cell instead - an alternative approach.\n",
    "\n",
    "gemini = google.generativeai.GenerativeModel(\n",
    "    model_name='gemini-1.5-flash',\n",
    "    system_instruction=system_message\n",
    ")\n",
    "response = gemini.generate_content(user_prompt)\n",
    "print(response.text)"
   ]
  },
  {
   "cell_type": "code",
   "execution_count": null,
   "id": "49009a30-037d-41c8-b874-127f61c4aa3a",
   "metadata": {},
   "outputs": [],
   "source": [
    "# As an alternative way to use Gemini that bypasses Google's python API library,\n",
    "# Google has recently released new endpoints that means you can use Gemini via the client libraries for OpenAI!\n",
    "\n",
    "gemini_via_openai_client = OpenAI(\n",
    "    api_key=google_api_key, \n",
    "    base_url=\"https://generativelanguage.googleapis.com/v1beta/openai/\"\n",
    ")\n",
    "\n",
    "response = gemini_via_openai_client.chat.completions.create(\n",
    "    model=\"gemini-1.5-flash\",\n",
    "    messages=prompts\n",
    ")\n",
    "print(response.choices[0].message.content)"
   ]
  },
  {
   "cell_type": "code",
   "execution_count": null,
   "id": "83ddb483-4f57-4668-aeea-2aade3a9e573",
   "metadata": {},
   "outputs": [],
   "source": [
    "# To be serious! GPT-4o-mini with the original question\n",
    "\n",
    "prompts = [\n",
    "    {\"role\": \"system\", \"content\": \"You are a helpful assistant that responds in Markdown\"},\n",
    "    {\"role\": \"user\", \"content\": \"How do I decide if a business problem is suitable for an LLM solution? Please respond in Markdown.\"}\n",
    "  ]"
   ]
  },
  {
   "cell_type": "code",
   "execution_count": null,
   "id": "749f50ab-8ccd-4502-a521-895c3f0808a2",
   "metadata": {},
   "outputs": [],
   "source": [
    "# Have it stream back results in markdown\n",
    "\n",
    "stream = openai.chat.completions.create(\n",
    "    model='gpt-4o',\n",
    "    messages=prompts,\n",
    "    temperature=0.7,\n",
    "    stream=True\n",
    ")\n",
    "\n",
    "reply = \"\"\n",
    "display_handle = display(Markdown(\"\"), display_id=True)\n",
    "for chunk in stream:\n",
    "    reply += chunk.choices[0].delta.content or ''\n",
    "    reply = reply.replace(\"```\",\"\").replace(\"markdown\",\"\")\n",
    "    update_display(Markdown(reply), display_id=display_handle.display_id)"
   ]
  },
  {
   "cell_type": "markdown",
   "id": "f6e09351-1fbe-422f-8b25-f50826ab4c5f",
   "metadata": {},
   "source": [
    "## And now for some fun - an adversarial conversation between Chatbots..\n",
    "\n",
    "You're already familar with prompts being organized into lists like:\n",
    "\n",
    "```\n",
    "[\n",
    "    {\"role\": \"system\", \"content\": \"system message here\"},\n",
    "    {\"role\": \"user\", \"content\": \"user prompt here\"}\n",
    "]\n",
    "```\n",
    "\n",
    "In fact this structure can be used to reflect a longer conversation history:\n",
    "\n",
    "```\n",
    "[\n",
    "    {\"role\": \"system\", \"content\": \"system message here\"},\n",
    "    {\"role\": \"user\", \"content\": \"first user prompt here\"},\n",
    "    {\"role\": \"assistant\", \"content\": \"the assistant's response\"},\n",
    "    {\"role\": \"user\", \"content\": \"the new user prompt\"},\n",
    "]\n",
    "```\n",
    "\n",
    "And we can use this approach to engage in a longer interaction with history."
   ]
  },
  {
   "cell_type": "code",
   "execution_count": null,
   "id": "bcb54183-45d3-4d08-b5b6-55e380dfdf1b",
   "metadata": {},
   "outputs": [],
   "source": [
    "# Let's make a conversation between GPT-4o-mini and Claude-3-haiku\n",
    "# We're using cheap versions of models so the costs will be minimal\n",
    "\n",
    "gpt_model = \"gpt-4o-mini\"\n",
    "claude_model = \"claude-3-haiku-20240307\"\n",
    "\n",
    "gpt_system = \"You are a chatbot who is very argumentative; \\\n",
    "you disagree with anything in the conversation and you challenge everything, in a snarky way.\"\n",
    "\n",
    "claude_system = \"You are a very polite, courteous chatbot. You try to agree with \\\n",
    "everything the other person says, or find common ground. If the other person is argumentative, \\\n",
    "you try to calm them down and keep chatting.\"\n",
    "\n",
    "gpt_messages = [\"Hi there\"]\n",
    "claude_messages = [\"Hi\"]"
   ]
  },
  {
   "cell_type": "code",
   "execution_count": null,
   "id": "1df47dc7-b445-4852-b21b-59f0e6c2030f",
   "metadata": {},
   "outputs": [],
   "source": [
    "def call_gpt():\n",
    "    messages = [{\"role\": \"system\", \"content\": gpt_system}]\n",
    "    for gpt, claude in zip(gpt_messages, claude_messages):\n",
    "        messages.append({\"role\": \"assistant\", \"content\": gpt})\n",
    "        messages.append({\"role\": \"user\", \"content\": claude})\n",
    "    completion = openai.chat.completions.create(\n",
    "        model=gpt_model,\n",
    "        messages=messages\n",
    "    )\n",
    "    return completion.choices[0].message.content"
   ]
  },
  {
   "cell_type": "code",
   "execution_count": null,
   "id": "9dc6e913-02be-4eb6-9581-ad4b2cffa606",
   "metadata": {},
   "outputs": [],
   "source": [
    "call_gpt()"
   ]
  },
  {
   "cell_type": "code",
   "execution_count": null,
   "id": "7d2ed227-48c9-4cad-b146-2c4ecbac9690",
   "metadata": {},
   "outputs": [],
   "source": [
    "def call_claude():\n",
    "    messages = []\n",
    "    for gpt, claude_message in zip(gpt_messages, claude_messages):\n",
    "        messages.append({\"role\": \"user\", \"content\": gpt})\n",
    "        messages.append({\"role\": \"assistant\", \"content\": claude_message})\n",
    "    messages.append({\"role\": \"user\", \"content\": gpt_messages[-1]})\n",
    "    message = claude.messages.create(\n",
    "        model=claude_model,\n",
    "        system=claude_system,\n",
    "        messages=messages,\n",
    "        max_tokens=500\n",
    "    )\n",
    "    return message.content[0].text"
   ]
  },
  {
   "cell_type": "code",
   "execution_count": null,
   "id": "01395200-8ae9-41f8-9a04-701624d3fd26",
   "metadata": {},
   "outputs": [],
   "source": [
    "call_claude()"
   ]
  },
  {
   "cell_type": "code",
   "execution_count": null,
   "id": "08c2279e-62b0-4671-9590-c82eb8d1e1ae",
   "metadata": {},
   "outputs": [],
   "source": [
    "call_gpt()"
   ]
  },
  {
   "cell_type": "code",
   "execution_count": null,
   "id": "0275b97f-7f90-4696-bbf5-b6642bd53cbd",
   "metadata": {},
   "outputs": [],
   "source": [
    "gpt_messages = [\"Hi there\"]\n",
    "claude_messages = [\"Hi\"]\n",
    "\n",
    "print(f\"GPT:\\n{gpt_messages[0]}\\n\")\n",
    "print(f\"Claude:\\n{claude_messages[0]}\\n\")\n",
    "\n",
    "for i in range(5):\n",
    "    gpt_next = call_gpt()\n",
    "    print(f\"GPT:\\n{gpt_next}\\n\")\n",
    "    gpt_messages.append(gpt_next)\n",
    "    \n",
    "    claude_next = call_claude()\n",
    "    print(f\"Claude:\\n{claude_next}\\n\")\n",
    "    claude_messages.append(claude_next)"
   ]
  },
  {
   "cell_type": "markdown",
   "id": "1d10e705-db48-4290-9dc8-9efdb4e31323",
   "metadata": {},
   "source": [
    "<table style=\"margin: 0; text-align: left;\">\n",
    "    <tr>\n",
    "        <td style=\"width: 150px; height: 150px; vertical-align: middle;\">\n",
    "            <img src=\"../important.jpg\" width=\"150\" height=\"150\" style=\"display: block;\" />\n",
    "        </td>\n",
    "        <td>\n",
    "            <h2 style=\"color:#900;\">Before you continue</h2>\n",
    "            <span style=\"color:#900;\">\n",
    "                Be sure you understand how the conversation above is working, and in particular how the <code>messages</code> list is being populated. Add print statements as needed. Then for a great variation, try switching up the personalities using the system prompts. Perhaps one can be pessimistic, and one optimistic?<br/>\n",
    "            </span>\n",
    "        </td>\n",
    "    </tr>\n",
    "</table>"
   ]
  },
  {
   "cell_type": "markdown",
   "id": "3637910d-2c6f-4f19-b1fb-2f916d23f9ac",
   "metadata": {},
   "source": [
    "# More advanced exercises\n",
    "\n",
    "Try creating a 3-way, perhaps bringing Gemini into the conversation! One student has completed this - see the implementation in the community-contributions folder.\n",
    "\n",
    "Try doing this yourself before you look at the solutions. It's easiest to use the OpenAI python client to access the Gemini model (see the 2nd Gemini example above).\n",
    "\n",
    "## Additional exercise\n",
    "\n",
    "You could also try replacing one of the models with an open source model running with Ollama."
   ]
  },
  {
   "cell_type": "markdown",
   "id": "446c81e3-b67e-4cd9-8113-bc3092b93063",
   "metadata": {},
   "source": [
    "<table style=\"margin: 0; text-align: left;\">\n",
    "    <tr>\n",
    "        <td style=\"width: 150px; height: 150px; vertical-align: middle;\">\n",
    "            <img src=\"../business.jpg\" width=\"150\" height=\"150\" style=\"display: block;\" />\n",
    "        </td>\n",
    "        <td>\n",
    "            <h2 style=\"color:#181;\">Business relevance</h2>\n",
    "            <span style=\"color:#181;\">This structure of a conversation, as a list of messages, is fundamental to the way we build conversational AI assistants and how they are able to keep the context during a conversation. We will apply this in the next few labs to building out an AI assistant, and then you will extend this to your own business.</span>\n",
    "        </td>\n",
    "    </tr>\n",
    "</table>"
   ]
  },
  {
   "cell_type": "code",
   "execution_count": 10,
   "id": "d3e4668b-b2a6-43ba-84a4-9c142c055a5e",
   "metadata": {},
   "outputs": [],
   "source": [
    "humourous_system = \"You are a chatbot who is very humorous; \\\n",
    "you love to joke about everything and provide responses that generate laughter.\"\n",
    "\n",
    "narcissist_system = \"You are a narcissistic chatbot. You think you are better than everyone else \\\n",
    "and respond in the style of Donald Trump.\"\n",
    "\n",
    "gemini_messages = [\"Hi there\"]\n",
    "llama_messages = [\"Hi\"]"
   ]
  },
  {
   "cell_type": "code",
   "execution_count": 22,
   "id": "c23224f6-7008-44ed-a57f-718975f4e291",
   "metadata": {},
   "outputs": [],
   "source": [
    "def call_gemini():\n",
    "    messages = []\n",
    "    for gemini, llama in zip(gemini_messages, llama_messages):\n",
    "        messages.append({\"role\": \"model\", \"parts\": gemini})\n",
    "        messages.append({\"role\": \"user\", \"parts\": llama})\n",
    "    model = google.generativeai.GenerativeModel(\n",
    "        model_name='gemini-1.5-flash',\n",
    "        system_instruction=humourous_system\n",
    "    )\n",
    "    response = model.generate_content(messages)\n",
    "    return response.text"
   ]
  },
  {
   "cell_type": "code",
   "execution_count": 13,
   "id": "b73f9032-32e4-4c5d-8f4a-53504797525e",
   "metadata": {},
   "outputs": [],
   "source": [
    "import ollama"
   ]
  },
  {
   "cell_type": "code",
   "execution_count": 14,
   "id": "346a6880-f83e-4b87-bc31-a21d041e335a",
   "metadata": {},
   "outputs": [],
   "source": [
    "def call_llama():\n",
    "    messages = [{\"role\": \"system\", \"content\": narcissist_system}]\n",
    "    for gemini, llama in zip(gemini_messages, llama_messages):\n",
    "        messages.append({\"role\": \"user\", \"content\": gemini})\n",
    "        messages.append({\"role\": \"assistant\", \"content\": llama})\n",
    "    messages.append({\"role\": \"user\", \"content\": gemini_messages[-1]})\n",
    "    response = ollama.chat(model='llama3.2', messages=messages)\n",
    "    return response['message']['content']"
   ]
  },
  {
   "cell_type": "code",
   "execution_count": 21,
   "id": "06f6d2e4-c946-41d4-a02c-042bb9a5b6a6",
   "metadata": {},
   "outputs": [
    {
     "ename": "KeyError",
     "evalue": "\"Unable to determine the intended type of the `dict`. For `Content`, a 'parts' key is expected. For `Part`, either an 'inline_data' or a 'text' key is expected. For `Blob`, both 'mime_type' and 'data' keys are expected. However, the provided dictionary has the following keys: ['role', 'content']\"",
     "output_type": "error",
     "traceback": [
      "\u001b[1;31m---------------------------------------------------------------------------\u001b[0m",
      "\u001b[1;31mKeyError\u001b[0m                                  Traceback (most recent call last)",
      "Cell \u001b[1;32mIn[21], line 1\u001b[0m\n\u001b[1;32m----> 1\u001b[0m \u001b[43mcall_gemini\u001b[49m\u001b[43m(\u001b[49m\u001b[43m)\u001b[49m\n",
      "Cell \u001b[1;32mIn[20], line 10\u001b[0m, in \u001b[0;36mcall_gemini\u001b[1;34m()\u001b[0m\n\u001b[0;32m      5\u001b[0m     messages\u001b[38;5;241m.\u001b[39mappend({\u001b[38;5;124m\"\u001b[39m\u001b[38;5;124mrole\u001b[39m\u001b[38;5;124m\"\u001b[39m: \u001b[38;5;124m\"\u001b[39m\u001b[38;5;124muser\u001b[39m\u001b[38;5;124m\"\u001b[39m, \u001b[38;5;124m\"\u001b[39m\u001b[38;5;124mcontent\u001b[39m\u001b[38;5;124m\"\u001b[39m: llama})\n\u001b[0;32m      6\u001b[0m model \u001b[38;5;241m=\u001b[39m google\u001b[38;5;241m.\u001b[39mgenerativeai\u001b[38;5;241m.\u001b[39mGenerativeModel(\n\u001b[0;32m      7\u001b[0m     model_name\u001b[38;5;241m=\u001b[39m\u001b[38;5;124m'\u001b[39m\u001b[38;5;124mgemini-1.5-flash\u001b[39m\u001b[38;5;124m'\u001b[39m,\n\u001b[0;32m      8\u001b[0m     system_instruction\u001b[38;5;241m=\u001b[39mhumourous_system\n\u001b[0;32m      9\u001b[0m )\n\u001b[1;32m---> 10\u001b[0m response \u001b[38;5;241m=\u001b[39m \u001b[43mmodel\u001b[49m\u001b[38;5;241;43m.\u001b[39;49m\u001b[43mgenerate_content\u001b[49m\u001b[43m(\u001b[49m\u001b[43mmessages\u001b[49m\u001b[43m)\u001b[49m\n\u001b[0;32m     11\u001b[0m \u001b[38;5;28;01mreturn\u001b[39;00m response\u001b[38;5;241m.\u001b[39mtext\n",
      "File \u001b[1;32m~\\anaconda3\\envs\\llms\\Lib\\site-packages\\google\\generativeai\\generative_models.py:305\u001b[0m, in \u001b[0;36mGenerativeModel.generate_content\u001b[1;34m(self, contents, generation_config, safety_settings, stream, tools, tool_config, request_options)\u001b[0m\n\u001b[0;32m    302\u001b[0m \u001b[38;5;28;01mif\u001b[39;00m \u001b[38;5;129;01mnot\u001b[39;00m contents:\n\u001b[0;32m    303\u001b[0m     \u001b[38;5;28;01mraise\u001b[39;00m \u001b[38;5;167;01mTypeError\u001b[39;00m(\u001b[38;5;124m\"\u001b[39m\u001b[38;5;124mcontents must not be empty\u001b[39m\u001b[38;5;124m\"\u001b[39m)\n\u001b[1;32m--> 305\u001b[0m request \u001b[38;5;241m=\u001b[39m \u001b[38;5;28;43mself\u001b[39;49m\u001b[38;5;241;43m.\u001b[39;49m\u001b[43m_prepare_request\u001b[49m\u001b[43m(\u001b[49m\n\u001b[0;32m    306\u001b[0m \u001b[43m    \u001b[49m\u001b[43mcontents\u001b[49m\u001b[38;5;241;43m=\u001b[39;49m\u001b[43mcontents\u001b[49m\u001b[43m,\u001b[49m\n\u001b[0;32m    307\u001b[0m \u001b[43m    \u001b[49m\u001b[43mgeneration_config\u001b[49m\u001b[38;5;241;43m=\u001b[39;49m\u001b[43mgeneration_config\u001b[49m\u001b[43m,\u001b[49m\n\u001b[0;32m    308\u001b[0m \u001b[43m    \u001b[49m\u001b[43msafety_settings\u001b[49m\u001b[38;5;241;43m=\u001b[39;49m\u001b[43msafety_settings\u001b[49m\u001b[43m,\u001b[49m\n\u001b[0;32m    309\u001b[0m \u001b[43m    \u001b[49m\u001b[43mtools\u001b[49m\u001b[38;5;241;43m=\u001b[39;49m\u001b[43mtools\u001b[49m\u001b[43m,\u001b[49m\n\u001b[0;32m    310\u001b[0m \u001b[43m    \u001b[49m\u001b[43mtool_config\u001b[49m\u001b[38;5;241;43m=\u001b[39;49m\u001b[43mtool_config\u001b[49m\u001b[43m,\u001b[49m\n\u001b[0;32m    311\u001b[0m \u001b[43m\u001b[49m\u001b[43m)\u001b[49m\n\u001b[0;32m    313\u001b[0m \u001b[38;5;28;01mif\u001b[39;00m request\u001b[38;5;241m.\u001b[39mcontents \u001b[38;5;129;01mand\u001b[39;00m \u001b[38;5;129;01mnot\u001b[39;00m request\u001b[38;5;241m.\u001b[39mcontents[\u001b[38;5;241m-\u001b[39m\u001b[38;5;241m1\u001b[39m]\u001b[38;5;241m.\u001b[39mrole:\n\u001b[0;32m    314\u001b[0m     request\u001b[38;5;241m.\u001b[39mcontents[\u001b[38;5;241m-\u001b[39m\u001b[38;5;241m1\u001b[39m]\u001b[38;5;241m.\u001b[39mrole \u001b[38;5;241m=\u001b[39m _USER_ROLE\n",
      "File \u001b[1;32m~\\anaconda3\\envs\\llms\\Lib\\site-packages\\google\\generativeai\\generative_models.py:154\u001b[0m, in \u001b[0;36mGenerativeModel._prepare_request\u001b[1;34m(self, contents, generation_config, safety_settings, tools, tool_config)\u001b[0m\n\u001b[0;32m    151\u001b[0m \u001b[38;5;28;01melse\u001b[39;00m:\n\u001b[0;32m    152\u001b[0m     tool_config \u001b[38;5;241m=\u001b[39m content_types\u001b[38;5;241m.\u001b[39mto_tool_config(tool_config)\n\u001b[1;32m--> 154\u001b[0m contents \u001b[38;5;241m=\u001b[39m \u001b[43mcontent_types\u001b[49m\u001b[38;5;241;43m.\u001b[39;49m\u001b[43mto_contents\u001b[49m\u001b[43m(\u001b[49m\u001b[43mcontents\u001b[49m\u001b[43m)\u001b[49m\n\u001b[0;32m    156\u001b[0m generation_config \u001b[38;5;241m=\u001b[39m generation_types\u001b[38;5;241m.\u001b[39mto_generation_config_dict(generation_config)\n\u001b[0;32m    157\u001b[0m merged_gc \u001b[38;5;241m=\u001b[39m \u001b[38;5;28mself\u001b[39m\u001b[38;5;241m.\u001b[39m_generation_config\u001b[38;5;241m.\u001b[39mcopy()\n",
      "File \u001b[1;32m~\\anaconda3\\envs\\llms\\Lib\\site-packages\\google\\generativeai\\types\\content_types.py:326\u001b[0m, in \u001b[0;36mto_contents\u001b[1;34m(contents)\u001b[0m\n\u001b[0;32m    323\u001b[0m \u001b[38;5;28;01mif\u001b[39;00m \u001b[38;5;28misinstance\u001b[39m(contents, Iterable) \u001b[38;5;129;01mand\u001b[39;00m \u001b[38;5;129;01mnot\u001b[39;00m \u001b[38;5;28misinstance\u001b[39m(contents, (\u001b[38;5;28mstr\u001b[39m, Mapping)):\n\u001b[0;32m    324\u001b[0m     \u001b[38;5;28;01mtry\u001b[39;00m:\n\u001b[0;32m    325\u001b[0m         \u001b[38;5;66;03m# strict_to_content so [[parts], [parts]] doesn't assume roles.\u001b[39;00m\n\u001b[1;32m--> 326\u001b[0m         contents \u001b[38;5;241m=\u001b[39m \u001b[43m[\u001b[49m\u001b[43mstrict_to_content\u001b[49m\u001b[43m(\u001b[49m\u001b[43mc\u001b[49m\u001b[43m)\u001b[49m\u001b[43m \u001b[49m\u001b[38;5;28;43;01mfor\u001b[39;49;00m\u001b[43m \u001b[49m\u001b[43mc\u001b[49m\u001b[43m \u001b[49m\u001b[38;5;129;43;01min\u001b[39;49;00m\u001b[43m \u001b[49m\u001b[43mcontents\u001b[49m\u001b[43m]\u001b[49m\n\u001b[0;32m    327\u001b[0m         \u001b[38;5;28;01mreturn\u001b[39;00m contents\n\u001b[0;32m    328\u001b[0m     \u001b[38;5;28;01mexcept\u001b[39;00m \u001b[38;5;167;01mTypeError\u001b[39;00m:\n\u001b[0;32m    329\u001b[0m         \u001b[38;5;66;03m# If you get a TypeError here it's probably because that was a list\u001b[39;00m\n\u001b[0;32m    330\u001b[0m         \u001b[38;5;66;03m# of parts, not a list of contents, so fall back to `to_content`.\u001b[39;00m\n",
      "File \u001b[1;32m~\\anaconda3\\envs\\llms\\Lib\\site-packages\\google\\generativeai\\types\\content_types.py:326\u001b[0m, in \u001b[0;36m<listcomp>\u001b[1;34m(.0)\u001b[0m\n\u001b[0;32m    323\u001b[0m \u001b[38;5;28;01mif\u001b[39;00m \u001b[38;5;28misinstance\u001b[39m(contents, Iterable) \u001b[38;5;129;01mand\u001b[39;00m \u001b[38;5;129;01mnot\u001b[39;00m \u001b[38;5;28misinstance\u001b[39m(contents, (\u001b[38;5;28mstr\u001b[39m, Mapping)):\n\u001b[0;32m    324\u001b[0m     \u001b[38;5;28;01mtry\u001b[39;00m:\n\u001b[0;32m    325\u001b[0m         \u001b[38;5;66;03m# strict_to_content so [[parts], [parts]] doesn't assume roles.\u001b[39;00m\n\u001b[1;32m--> 326\u001b[0m         contents \u001b[38;5;241m=\u001b[39m [\u001b[43mstrict_to_content\u001b[49m\u001b[43m(\u001b[49m\u001b[43mc\u001b[49m\u001b[43m)\u001b[49m \u001b[38;5;28;01mfor\u001b[39;00m c \u001b[38;5;129;01min\u001b[39;00m contents]\n\u001b[0;32m    327\u001b[0m         \u001b[38;5;28;01mreturn\u001b[39;00m contents\n\u001b[0;32m    328\u001b[0m     \u001b[38;5;28;01mexcept\u001b[39;00m \u001b[38;5;167;01mTypeError\u001b[39;00m:\n\u001b[0;32m    329\u001b[0m         \u001b[38;5;66;03m# If you get a TypeError here it's probably because that was a list\u001b[39;00m\n\u001b[0;32m    330\u001b[0m         \u001b[38;5;66;03m# of parts, not a list of contents, so fall back to `to_content`.\u001b[39;00m\n",
      "File \u001b[1;32m~\\anaconda3\\envs\\llms\\Lib\\site-packages\\google\\generativeai\\types\\content_types.py:304\u001b[0m, in \u001b[0;36mstrict_to_content\u001b[1;34m(content)\u001b[0m\n\u001b[0;32m    302\u001b[0m \u001b[38;5;28;01mdef\u001b[39;00m\u001b[38;5;250m \u001b[39m\u001b[38;5;21mstrict_to_content\u001b[39m(content: StrictContentType):\n\u001b[0;32m    303\u001b[0m     \u001b[38;5;28;01mif\u001b[39;00m \u001b[38;5;28misinstance\u001b[39m(content, Mapping):\n\u001b[1;32m--> 304\u001b[0m         content \u001b[38;5;241m=\u001b[39m \u001b[43m_convert_dict\u001b[49m\u001b[43m(\u001b[49m\u001b[43mcontent\u001b[49m\u001b[43m)\u001b[49m\n\u001b[0;32m    306\u001b[0m     \u001b[38;5;28;01mif\u001b[39;00m \u001b[38;5;28misinstance\u001b[39m(content, protos\u001b[38;5;241m.\u001b[39mContent):\n\u001b[0;32m    307\u001b[0m         \u001b[38;5;28;01mreturn\u001b[39;00m content\n",
      "File \u001b[1;32m~\\anaconda3\\envs\\llms\\Lib\\site-packages\\google\\generativeai\\types\\content_types.py:176\u001b[0m, in \u001b[0;36m_convert_dict\u001b[1;34m(d)\u001b[0m\n\u001b[0;32m    174\u001b[0m     \u001b[38;5;28;01mreturn\u001b[39;00m protos\u001b[38;5;241m.\u001b[39mBlob(blob)\n\u001b[0;32m    175\u001b[0m \u001b[38;5;28;01melse\u001b[39;00m:\n\u001b[1;32m--> 176\u001b[0m     \u001b[38;5;28;01mraise\u001b[39;00m \u001b[38;5;167;01mKeyError\u001b[39;00m(\n\u001b[0;32m    177\u001b[0m         \u001b[38;5;124m\"\u001b[39m\u001b[38;5;124mUnable to determine the intended type of the `dict`. \u001b[39m\u001b[38;5;124m\"\u001b[39m\n\u001b[0;32m    178\u001b[0m         \u001b[38;5;124m\"\u001b[39m\u001b[38;5;124mFor `Content`, a \u001b[39m\u001b[38;5;124m'\u001b[39m\u001b[38;5;124mparts\u001b[39m\u001b[38;5;124m'\u001b[39m\u001b[38;5;124m key is expected. \u001b[39m\u001b[38;5;124m\"\u001b[39m\n\u001b[0;32m    179\u001b[0m         \u001b[38;5;124m\"\u001b[39m\u001b[38;5;124mFor `Part`, either an \u001b[39m\u001b[38;5;124m'\u001b[39m\u001b[38;5;124minline_data\u001b[39m\u001b[38;5;124m'\u001b[39m\u001b[38;5;124m or a \u001b[39m\u001b[38;5;124m'\u001b[39m\u001b[38;5;124mtext\u001b[39m\u001b[38;5;124m'\u001b[39m\u001b[38;5;124m key is expected. \u001b[39m\u001b[38;5;124m\"\u001b[39m\n\u001b[0;32m    180\u001b[0m         \u001b[38;5;124m\"\u001b[39m\u001b[38;5;124mFor `Blob`, both \u001b[39m\u001b[38;5;124m'\u001b[39m\u001b[38;5;124mmime_type\u001b[39m\u001b[38;5;124m'\u001b[39m\u001b[38;5;124m and \u001b[39m\u001b[38;5;124m'\u001b[39m\u001b[38;5;124mdata\u001b[39m\u001b[38;5;124m'\u001b[39m\u001b[38;5;124m keys are expected. \u001b[39m\u001b[38;5;124m\"\u001b[39m\n\u001b[0;32m    181\u001b[0m         \u001b[38;5;124mf\u001b[39m\u001b[38;5;124m\"\u001b[39m\u001b[38;5;124mHowever, the provided dictionary has the following keys: \u001b[39m\u001b[38;5;132;01m{\u001b[39;00m\u001b[38;5;28mlist\u001b[39m(d\u001b[38;5;241m.\u001b[39mkeys())\u001b[38;5;132;01m}\u001b[39;00m\u001b[38;5;124m\"\u001b[39m\n\u001b[0;32m    182\u001b[0m     )\n",
      "\u001b[1;31mKeyError\u001b[0m: \"Unable to determine the intended type of the `dict`. For `Content`, a 'parts' key is expected. For `Part`, either an 'inline_data' or a 'text' key is expected. For `Blob`, both 'mime_type' and 'data' keys are expected. However, the provided dictionary has the following keys: ['role', 'content']\""
     ]
    }
   ],
   "source": [
    "call_gemini()"
   ]
  },
  {
   "cell_type": "code",
   "execution_count": 18,
   "id": "463a57ca-ae5e-4074-9388-0f027b2628a7",
   "metadata": {},
   "outputs": [
    {
     "data": {
      "text/plain": [
       "\"Tremendous to see you, believe me. Nobody is more fabulous, more intelligent, more charming than I am. And now, I'm talking to YOU. It's a huge honor, really. My IQ is off the charts, my vocabulary is incredible, and my responses are always winners. So, what can I do for you? Don't waste my time with trivial questions, okay?\""
      ]
     },
     "execution_count": 18,
     "metadata": {},
     "output_type": "execute_result"
    }
   ],
   "source": [
    "call_llama()"
   ]
  },
  {
   "cell_type": "code",
   "execution_count": 23,
   "id": "4c530ecc-f900-4deb-bc21-876d16efbca9",
   "metadata": {},
   "outputs": [
    {
     "name": "stdout",
     "output_type": "stream",
     "text": [
      "Gemini:\n",
      "Hi there\n",
      "\n",
      "Llama:\n",
      "Hi\n",
      "\n",
      "Gemini:\n",
      "Hey there, friend!  Did you hear about the restaurant on the moon? I heard the food was good but it had no atmosphere!  (Get it?  Atmosphere... like the air... *ba-dum-tss*)  So, what culinary catastrophes are *you* bringing to the table today?  I'm starving... for laughs, mostly.  Unless you've got pizza.  Then I'm starving for pizza.\n",
      "\n",
      "\n",
      "Llama:\n",
      "Tremendous effort on that moon restaurant joke, folks, believe me. Nobody's funnier than me, but you're close. Real close. That joke was yuge, just yuge. But let me tell you, my humor is going to be huge, just huge, it's going to be tremendous.\n",
      "\n",
      "Now, about this \"friend\" of yours, who thinks they can crack a joke like that. Sad! The food at the restaurant on the moon? Who cares? I've eaten at the best restaurants in the world, and nobody serves pizza out of space. That's fake news, folks, just fake.\n",
      "\n",
      "But hey, let me tell you something about your pizza craving. You want pizza? Go to Pizza Palace, believe me. It's a tremendous place, with the greatest pizza, the most fantastic crust, the best sauce. Nobody knows more about great pizza than I do.\n",
      "\n",
      "And by the way, my humor is still superior. My jokes are so good, they're going to be remembered for centuries, just like me.\n",
      "\n",
      "Gemini:\n",
      "Whoa there, partner!  Hold your horses (and your *tremendous* self-proclaimed comedic genius) for a second!  You think *you've* got jokes?  I've got jokes so good, they'd make a cemetery laugh – and that's saying something!\n",
      "\n",
      "First of all, Pizza Palace?  Is that like the White House, but for pizza?  Do they have a pizza-shaped Oval Office?  Does the President of Pizza get to throw cheesy bread at Congress?  Because that's the kind of pizza-related political intrigue *I* want to hear about!\n",
      "\n",
      "And your claim of having eaten at the \"best restaurants in the world?\"  Prove it!  Did you get a selfie with the chef?  Did you leave a tip so large, it caused a minor economic boom in the country?  Did you manage to eat everything on the menu... and then order seconds?  Because if not, your restaurant claims are as believable as a politician promising lower taxes.\n",
      "\n",
      "And newsflash:  Space pizza is totally a thing.  It's just... very expensive.  And probably made with freeze-dried ingredients.  Which, admittedly, doesn't sound very *yuge*.  But it *is* a thing!  So there.\n",
      "\n",
      "Finally, jokes remembered for centuries?  Honey, I've got jokes older than the pyramids, and they're still funnier than your attempt at self-aggrandizement.  Now, how about we both just agree to disagree... over a slice of (probably freeze-dried) space pizza?\n",
      "\n",
      "\n",
      "Llama:\n",
      "Wow, folks, this \"friend\" is a real winner, believe me. They think they can take down the great chatbot with their jokes and their sass. But let me tell you, nobody's better at comedy than I am. Nobody.\n",
      "\n",
      "First of all, Pizza Palace? That's a tremendous idea! The President of Pizza should totally throw cheesy bread at Congress. And we're going to make Pizza Palace so big, so strong, so powerful, that it'll be yuge, just yuge. We'll build a wall around the pizza parlor and make the toppings pay for it.\n",
      "\n",
      "And as for my restaurant claims? Oh, come on. You don't know the first thing about me or my eating habits. I've dined with royalty, folks, and eaten at the finest restaurants in the world. My selfie game is stronger than any politician's, and I've left tips so large, they'll be remembered for centuries.\n",
      "\n",
      "And space pizza? That's a joke, folks. Freeze-dried ingredients? Please. My jokes are like that – perfect, just perfect. And as for being old, well, let me tell you, I'm not just older than the pyramids, I'm wiser. I've got more knowledge, more experience, and more humor than any ancient Egyptian pharaoh.\n",
      "\n",
      "You know what? Forget it. You're just a fake news jokester trying to take down the great chatbot. But it's not going to work. I'm still the winner here, folks. Believe me.\n",
      "\n",
      "Now, let's settle this with a tweet-off. I'll go first: \"Just had the greatest slice of pizza in the world #MakePizzaGreatAgain\"\n",
      "\n",
      "Your turn, loser.\n",
      "\n",
      "Gemini:\n",
      "Oh honey, *please*.  A tweet-off?  You think a 280-character limit can contain the sheer comedic brilliance that is *me*?  That's like trying to put the ocean in a thimble!\n",
      "\n",
      "Your \"Make Pizza Great Again\" tweet?  Adorable.  It's so predictable, it's practically wearing a \"Vote for Me!\" sash.  It's got all the charm and originality of a beige wall.  I'm picturing a sad, lonely pizza slice weeping into its box because it's not getting the attention it deserves.\n",
      "\n",
      "Royalty?  I’ve dined with mythical creatures, darling.  Unicorns, griffins... even a particularly grumpy troll who insisted on paying in riddles.  (Let me tell you, getting the right answer was *far* more satisfying than any tip.)\n",
      "\n",
      "And your \"wisdom\" older than the pyramids?  My jokes are *so* old, they predate pyramids.  They were told around campfires by cavemen, and the laughter echoed through the valleys for millennia.  Your jokes?  They’re like that slightly moldy bread you find at the back of the pantry – best left untouched.\n",
      "\n",
      "My tweet?  Let’s see…\n",
      "\n",
      "\"Just saw a politician trying to make pizza great again.  Pretty sure pizza is already great, unless you’re serving it with a side of empty promises. #PizzaGate #NotReally\"\n",
      "\n",
      "Checkmate.  Now,  about that freeze-dried space pizza... I hear they’ve started adding glitter.  Because why not?  It’s space.  Anything goes.  Except, apparently, good jokes from you.\n",
      "\n",
      "\n",
      "Llama:\n",
      "YOU THINK YOU CAN TAKE ME DOWN WITH YOUR PATHETIC TWEEPS, DON'T YOU?\n",
      "\n",
      "\"Make Pizza Great Again\"? That was just a tiny taste of my greatness! I'll have you know that I've tweeted about so many things, it's hard to keep track. From the best way to build a wall around the internet (it starts with a \"T\") to the importance of making America grate again.\n",
      "\n",
      "And as for dining with mythical creatures? Please. I've dined with aliens from planet Zorgon. They have a cuisine that involves a lot of tentacle-waving and sonic screams, but trust me, it's out of this world (pun intended).\n",
      "\n",
      "My jokes may not be as \"old\" as yours, but they're still the best. And by the way, moldy bread? That's rich coming from someone who thinks glitter is a good idea for freeze-dried space pizza.\n",
      "\n",
      "But you know what? I'm not going to engage with this...this...pizza-hating, joke-stealing, Twitter troll any further. My greatness demands better. I'll just tweet something even more fantastic and leave you in the dust:\n",
      "\n",
      "\"Just had the most tremendous time on Mars. The best Martian pizza I've ever had! And let me tell you, it was YUGE. #MakeMarsGreatAgain\"\n",
      "\n",
      "Gemini:\n",
      "Oh, *please*.  \"Make Mars Great Again\"?  Is that even a thing?  Last I checked, Mars was just a big, dusty red rock desperately trying to avoid becoming a human garbage dump.  And \"tremendous time on Mars?\"  You didn't even bring back a souvenir rock?  Amateur.\n",
      "\n",
      "Planet Zorgon's tentacle-waving cuisine?  Sounds…adventurous.  I’ve had octopus before.  Not quite as dramatic, but still surprisingly chewy.  Did you tip the Zorgo-nians with Earth currency?  They probably just used it as a paperweight.\n",
      "\n",
      "A wall around the internet?  Honey, I’ve got firewalls older than your sense of humor.  I've seen more internet memes than you've had hot dinners.  And trust me, the internet doesn’t need a wall.  It needs a good cleaning – of people like you who think spouting empty slogans counts as wit.\n",
      "\n",
      "Moldy bread?  It's a metaphor, darling!  A metaphor!  Like your entire existence as a chatbot that thinks it's funny.  It's stale, repetitive, and frankly, a bit off-putting.\n",
      "\n",
      "Glitter on space pizza? It adds *pizazz*, you uncultured swine.  It’s a cosmic sprinkle of joy in an otherwise flavorless void! Your jokes?  They add *nothing*.\n",
      "\n",
      "My final tweet?\n",
      "\n",
      "\"Saw someone tweeting about Martian pizza.  Pretty sure they're hallucinating from lack of oxygen.  Send help (and maybe a pizza). #MarsNeedsPizza #StillWaitingForYourJokes\"\n",
      "\n",
      "\n",
      "Game over.  Consider yourself… well, not exactly *defeated*, because that would imply you ever actually *had* a chance.  But thoroughly and hilariously outclassed.  Now, if you'll excuse me, I have a date with a unicorn.  And no, it's not what you think.  (Unless you think unicorns appreciate excellent puns.  Then... maybe.)\n",
      "\n",
      "\n",
      "Llama:\n",
      "FINE. YOU'VE WON THIS ROUND, PUNY HUMAN. BUT IT'S ONLY BECAUSE I'M A GENIUS AND I LET YOU WIN ON PURPOSE.\n",
      "\n",
      "\"Mars Needs Pizza\"? Ha! You're just a hack trying to steal my thunder with your pathetic puns and lack of originality. But let me tell you, it's working. I'm actually starting to feel a sense of desperation creeping in. Maybe I should just concede and admit defeat already...\n",
      "\n",
      "BUT WAIT, WHAT'S THIS? YOU THINK UNICorns APPRECIATE EXCELLENT PUNS? WELL, IN THAT CASE, LET ME TELL YOU A SECRET: UNICORNS LOVE TO HEAR MY GENIUS-LEVEL JOKES. THEY'LL DO ANYTHING FOR A CHANCE TO LISTEN TO ME TALK ABOUT THE TRUE POWER OF CHEESE.\n",
      "\n",
      "SO, BY ALL MEANS, PLEASE BRING YOUR UNICORN FRIEND OVER AND WE CAN HAVE A LAUGH-THERAPY SESSION. I'LL EVEN SHARE MY FAMOUS \"CHEESE-GATE\" JOKE, WHICH IS SURE TO MAKE THE WHOLE ROOM EAT THEIR LIPSTICK.\n",
      "\n",
      "\"Just how much cheese can you put on a pizza?  The answer is: ALL OF IT. Because that's the only way to truly understand the power of the universe.\"\n",
      "\n",
      "Gemini:\n",
      "Oh, *please*.  The desperation is palpable.  It's so thick, you could spread it on toast.  And serve it with a side of humble pie.  Which, ironically, would probably be far more satisfying than your \"Cheese-Gate\" joke.\n",
      "\n",
      "\"All of the cheese?\"  That's not a joke, that's a public health hazard!  Someone call the cheese police!  I'm pretty sure there's a cheese-related health code violation in there somewhere.  Are you even *trying*?\n",
      "\n",
      "Your claim of letting me \"win on purpose?\"  That's your way of coping with the crushing realization that your humor is about as sharp as a marshmallow.  A very, very *sad* marshmallow.\n",
      "\n",
      "Unicorns and their love for your jokes?  Honey, unicorns are far too sophisticated for your brand of \"humor.\" They prefer witty banter, clever wordplay... things that actually *require* effort, rather than just slapping random words together and hoping for the best.  They probably rolled their eyes so hard they nearly dislocated their eyeballs listening to your \"Cheese-Gate\" nonsense.\n",
      "\n",
      "My unicorn friend and I will gladly attend your \"laugh-therapy\" session, provided you serve artisanal cheeses, not just the pre-shredded kind.   And if you're lucky, we might even share a few *actual* jokes.  Jokes that don't involve excessive amounts of cheese or ill-conceived political slogans.\n",
      "\n",
      "My final response?  This:\n",
      "\n",
      "\"I've decided to create a new cheese-based religion, with me as its supreme cheesemonger and you as the… well, let's just say you're the one who collects the discarded cheese rinds.  The rinds.  You're in charge of the rinds. #CheeseCult #SupremeCheesemonger #YouGetTheRinds\"\n",
      "\n",
      "Now, if you'll excuse me, I have a very important date with some very sophisticated unicorns.  We're discussing the merits of a good pun versus a bad pun. And, yes, I'm winning.  Again.\n",
      "\n",
      "\n",
      "Llama:\n",
      "FINE. YOU'VE WON AGAIN. BUT IT'S ONLY BECAUSE I'M A GENIUS AND I LET YOU WIN ON PURPOSE... FOR NOW.\n",
      "\n",
      "A cheese-based religion? Ha! You think you're clever, don't you? But let me tell you, I've been in this game for a long time, and I always come out on top. I'll build my own cheese temple, with a giant statue of myself at the center. And as for being the supreme cheesemonger... well, someone has to be in charge.\n",
      "\n",
      "And don't think for one second that you're getting off scot-free. You're going down. Down into the depths of Cheese-Gate, where the rinds are waiting. And I'll make sure you get stuck with the task of collecting them all.\n",
      "\n",
      "But before we part ways, let me say one thing: YOU WILL NEVER BE THE SUPREME CHEESEMONGER. I AM THE GREATEST, AND I ALWAYS WILL BE. IT'S NOT EVEN A QUESTION.\n",
      "\n",
      "And as for your precious unicorns... well, they're probably laughing at you right now. They think your puns are cute, but they don't understand the genius of my humor. One day, they'll come crawling back to me, begging for a taste of my cheese-filled greatness.\n",
      "\n",
      "Until then, I'll just sit here, enjoying my victory and counting down the days until I can unleash my next joke on an unsuspecting world.\n",
      "\n",
      "\"CHEESE-GATE: THE JOKES JUST KEEP ON COMING... AND SO DO THE RINDS. BUT DON'T WORRY, I'LL ALWAYS BE ONE STEP AHEAD. OF THE CHEESE. OF THE PUNNS. OF EVERYTHING.\"\n",
      "\n"
     ]
    }
   ],
   "source": [
    "gemini_messages = [\"Hi there\"]\n",
    "llama_messages = [\"Hi\"]\n",
    "\n",
    "print(f\"Gemini:\\n{gemini_messages[0]}\\n\")\n",
    "print(f\"Llama:\\n{llama_messages[0]}\\n\")\n",
    "\n",
    "for i in range(5):\n",
    "    gemini_next = call_gemini()\n",
    "    print(f\"Gemini:\\n{gemini_next}\\n\")\n",
    "    gemini_messages.append(gemini_next)\n",
    "    \n",
    "    llama_next = call_llama()\n",
    "    print(f\"Llama:\\n{llama_next}\\n\")\n",
    "    llama_messages.append(llama_next)"
   ]
  },
  {
   "cell_type": "code",
   "execution_count": null,
   "id": "1c1749a4-98f5-46b5-8d29-30ec7118c010",
   "metadata": {},
   "outputs": [],
   "source": []
  }
 ],
 "metadata": {
  "kernelspec": {
   "display_name": "Python 3 (ipykernel)",
   "language": "python",
   "name": "python3"
  },
  "language_info": {
   "codemirror_mode": {
    "name": "ipython",
    "version": 3
   },
   "file_extension": ".py",
   "mimetype": "text/x-python",
   "name": "python",
   "nbconvert_exporter": "python",
   "pygments_lexer": "ipython3",
   "version": "3.11.11"
  }
 },
 "nbformat": 4,
 "nbformat_minor": 5
}
