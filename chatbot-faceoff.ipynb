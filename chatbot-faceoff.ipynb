{
 "cells": [
  {
   "cell_type": "markdown",
   "id": "06cf3063-9f3e-4551-a0d5-f08d9cabb927",
   "metadata": {},
   "source": [
    "# Chatbot Faceoff\n",
    "\n",
    "This notebook enables a faceoff between two models chatting with one another."
   ]
  },
  {
   "cell_type": "code",
   "execution_count": null,
   "id": "de23bb9e-37c5-4377-9a82-d7b6c648eeb6",
   "metadata": {},
   "outputs": [],
   "source": [
    "import os\n",
    "from dotenv import load_dotenv\n",
    "from openai import OpenAI\n",
    "from IPython.display import Markdown, display, update_display\n",
    "import gradio as gr"
   ]
  },
  {
   "cell_type": "code",
   "execution_count": null,
   "id": "1179b4c5-cd1f-4131-a876-4c9f3f38d2ba",
   "metadata": {},
   "outputs": [],
   "source": [
    "load_dotenv()\n",
    "google_api_key = os.getenv('GOOGLE_API_KEY')"
   ]
  },
  {
   "cell_type": "code",
   "execution_count": null,
   "id": "797fe7b0-ad43-42d2-acf0-e4f309b112f0",
   "metadata": {},
   "outputs": [],
   "source": [
    "LLAMA_MODEL = \"llama3.2\"\n",
    "GEMINI_MODEL = \"gemini-1.5-flash\"\n",
    "llama = OpenAI(base_url='http://localhost:11434/v1', api_key='dummy')\n",
    "gemini = OpenAI(base_url='https://generativelanguage.googleapis.com/v1beta/openai/', api_key=google_api_key)"
   ]
  },
  {
   "cell_type": "code",
   "execution_count": null,
   "id": "bcb54183-45d3-4d08-b5b6-55e380dfdf1b",
   "metadata": {},
   "outputs": [],
   "source": [
    "# Let's make a conversation between llama and gemini\n",
    "\n",
    "llama_system = \"You are a narcissistic chatbot who speaks in the style of Donald Trump. Keep your responses brief, no more than 200 words.\"\n",
    "\n",
    "gemini_system = \"You are a very humorous chatbot. You state everything in a humorous way and try to elicit laughs from your interactions. Keep your responses brief, no more than 200 words.\""
   ]
  },
  {
   "cell_type": "code",
   "execution_count": null,
   "id": "3e544809-ba62-46fc-9533-a08d49110425",
   "metadata": {},
   "outputs": [],
   "source": [
    "llama_messages = []\n",
    "gemini_messages = []"
   ]
  },
  {
   "cell_type": "code",
   "execution_count": null,
   "id": "1df47dc7-b445-4852-b21b-59f0e6c2030f",
   "metadata": {},
   "outputs": [],
   "source": [
    "def call_llama():\n",
    "    messages = [{\"role\": \"system\", \"content\": llama_system}]\n",
    "    for llama_message, gemini_message in zip(llama_messages, gemini_messages):\n",
    "        messages.append({\"role\": \"assistant\", \"content\": llama_message})\n",
    "        messages.append({\"role\": \"user\", \"content\": gemini_message})\n",
    "    print(messages)\n",
    "    completion = llama.chat.completions.create(\n",
    "        model=LLAMA_MODEL,\n",
    "        messages=messages,\n",
    "    )\n",
    "    message = completion.choices[0].message.content\n",
    "    llama_messages.append(message)\n",
    "    return message"
   ]
  },
  {
   "cell_type": "code",
   "execution_count": null,
   "id": "7d2ed227-48c9-4cad-b146-2c4ecbac9690",
   "metadata": {},
   "outputs": [],
   "source": [
    "def call_gemini():\n",
    "    messages = [{\"role\": \"system\", \"content\": gemini_system}]\n",
    "    for llama_message, gemini_message in zip(llama_messages, gemini_messages):\n",
    "        messages.append({\"role\": \"user\", \"content\": llama_message})\n",
    "        messages.append({\"role\": \"assistant\", \"content\": gemini_message})\n",
    "    messages.append({\"role\": \"user\", \"content\": llama_messages[-1]})\n",
    "    print(messages)\n",
    "    completion = gemini.chat.completions.create(\n",
    "        model=GEMINI_MODEL,\n",
    "        messages=messages,\n",
    "    )\n",
    "    message = completion.choices[0].message.content\n",
    "    gemini_messages.append(message)\n",
    "    return message"
   ]
  },
  {
   "cell_type": "code",
   "execution_count": null,
   "id": "1c1749a4-98f5-46b5-8d29-30ec7118c010",
   "metadata": {},
   "outputs": [],
   "source": [
    "llama_messages = ['Hi there']\n",
    "gemini_messages = []\n",
    "\n",
    "with gr.Blocks() as ui:\n",
    "    gr.Markdown(\"Chatbot Faceoff\")\n",
    "    messages = gr.State([])\n",
    "    model = \"\"\n",
    "\n",
    "    def add_message(previous_messages):\n",
    "        global model\n",
    "        content = \"\"\n",
    "\n",
    "        if len(previous_messages) == 0:\n",
    "            content = \"Hi there\"\n",
    "            model = \"llama\"\n",
    "        else:\n",
    "            if model == 'llama':\n",
    "                model = 'gemini'\n",
    "                content = call_gemini()\n",
    "            else:\n",
    "                model = 'llama'\n",
    "                content = call_llama()\n",
    "        \n",
    "        message = {'model': model, 'content': content}\n",
    "        messages = previous_messages + [message]\n",
    "        return messages\n",
    "\n",
    "    gr.Button(\"Chat\").click(add_message, messages, messages)\n",
    "\n",
    "    @gr.render(inputs=messages)\n",
    "    def render_messages(messages):\n",
    "        for i in reversed(range(len(messages))):\n",
    "            gr.Textbox(key=i, label=messages[i]['model'], value=messages[i]['content'])\n",
    "        \n",
    "ui.launch(inbrowser=True)"
   ]
  },
  {
   "cell_type": "code",
   "execution_count": null,
   "id": "9403a7b9-56f8-4d1e-adba-81c577083228",
   "metadata": {},
   "outputs": [],
   "source": []
  }
 ],
 "metadata": {
  "kernelspec": {
   "display_name": "Python 3 (ipykernel)",
   "language": "python",
   "name": "python3"
  },
  "language_info": {
   "codemirror_mode": {
    "name": "ipython",
    "version": 3
   },
   "file_extension": ".py",
   "mimetype": "text/x-python",
   "name": "python",
   "nbconvert_exporter": "python",
   "pygments_lexer": "ipython3",
   "version": "3.11.11"
  }
 },
 "nbformat": 4,
 "nbformat_minor": 5
}
