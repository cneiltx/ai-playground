{
 "cells": [
  {
   "cell_type": "markdown",
   "id": "e0cc8b2e-ee88-4631-838d-10187942fbe5",
   "metadata": {},
   "source": [
    "# Code Commenter\n",
    "\n",
    "This notebook adds comments to code."
   ]
  },
  {
   "cell_type": "code",
   "execution_count": null,
   "id": "00959a38-f663-459e-844f-3fdfc66d63cf",
   "metadata": {},
   "outputs": [],
   "source": [
    "from dotenv import load_dotenv\n",
    "from openai import OpenAI\n",
    "import gradio as gr"
   ]
  },
  {
   "cell_type": "code",
   "execution_count": null,
   "id": "3814288d-ffe9-45d9-86ff-a14c00e6e898",
   "metadata": {},
   "outputs": [],
   "source": [
    "CODEQWEN_MODEL = \"codeqwen\"\n",
    "DEEPSEEK_MODEL = \"deepseek-r1\"\n",
    "LLAMA_MODEL = \"llama3.2\"\n",
    "ollama = OpenAI(base_url='http://localhost:11434/v1', api_key='dummy')"
   ]
  },
  {
   "cell_type": "code",
   "execution_count": null,
   "id": "20e2abcf-bc70-4184-a52b-97428a11c129",
   "metadata": {},
   "outputs": [],
   "source": [
    "system_prompt = \"You are a coding assistant who adds comments to existing code. You should add doc comments for all classes and functions. \"\n",
    "system_prompt += \"You can also add inline comments sparingly where needed to explain complex logic. \"\n",
    "system_prompt += \"Do not add inline comments that will be obvious to a knowledgeable developer. \"\n",
    "system_prompt += \"Do not modify the code in any way; only add comments. Return only the provided code with your added comments. \"\n",
    "system_prompt += \"Do not include summary text or explanations in your response.\""
   ]
  },
  {
   "cell_type": "code",
   "execution_count": null,
   "id": "5e1513ef-8f0e-4e06-8d75-9ea204bbf99a",
   "metadata": {},
   "outputs": [],
   "source": [
    "def get_user_prompt(code):\n",
    "    user_prompt = f\"Add comments to the following code.\\n\\n{code}\"\n",
    "    return user_prompt"
   ]
  },
  {
   "cell_type": "code",
   "execution_count": null,
   "id": "c7a4d03a-354d-4563-a4e3-8115ecd97a23",
   "metadata": {},
   "outputs": [],
   "source": [
    "def get_messages(code):\n",
    "    messages = [\n",
    "        {'role': 'system', 'content': system_prompt},\n",
    "        {'role': 'user', 'content': get_user_prompt(code)}\n",
    "    ]\n",
    "    return messages"
   ]
  },
  {
   "cell_type": "code",
   "execution_count": null,
   "id": "127c9d61-012d-4331-8476-cd560300afe5",
   "metadata": {},
   "outputs": [],
   "source": [
    "def comment_code(code, model):\n",
    "    model_name = \"\"\n",
    "    \n",
    "    match model:\n",
    "        case 'CodeQwen':\n",
    "            model_name = CODEQWEN_MODEL\n",
    "        case 'DeepSeek':\n",
    "            model_name = DEEPSEEK_MODEL\n",
    "        case 'Llama':\n",
    "            model_name = LLAMA_MODEL\n",
    "            \n",
    "    stream = ollama.chat.completions.create(model=model_name, messages=get_messages(code), stream=True)\n",
    "    reply = \"\"\n",
    "    for chunk in stream:\n",
    "        fragment = chunk.choices[0].delta.content or \"\"\n",
    "        reply += fragment\n",
    "        yield reply"
   ]
  },
  {
   "cell_type": "code",
   "execution_count": null,
   "id": "fde90c2b-1e10-4bc8-8dc1-d59ea2c47482",
   "metadata": {},
   "outputs": [],
   "source": [
    "pi = \"\"\"\n",
    "import time\n",
    "\n",
    "def calculate(iterations, param1, param2):\n",
    "    result = 1.0\n",
    "    for i in range(1, iterations+1):\n",
    "        j = i * param1 - param2\n",
    "        result -= (1/j)\n",
    "        j = i * param1 + param2\n",
    "        result += (1/j)\n",
    "    return result\n",
    "\n",
    "start_time = time.time()\n",
    "result = calculate(100_000_000, 4, 1) * 4\n",
    "end_time = time.time()\n",
    "\n",
    "print(f\"Result: {result:.12f}\")\n",
    "print(f\"Execution Time: {(end_time - start_time):.6f} seconds\")\n",
    "\"\"\""
   ]
  },
  {
   "cell_type": "code",
   "execution_count": null,
   "id": "9f5aafb6-bad9-4825-9c60-b69dd93eccd2",
   "metadata": {},
   "outputs": [],
   "source": [
    "with gr.Blocks() as ui:\n",
    "    gr.Markdown(\"## Code Commenter\")\n",
    "    with gr.Row():\n",
    "        uncommented = gr.Textbox(label=\"Code to comment:\", value=pi, lines=10)\n",
    "        commented = gr.Textbox(label=\"Commented code:\", lines=10)\n",
    "    with gr.Row():\n",
    "        model = gr.Dropdown([\"CodeQwen\", \"DeepSeek\", \"Llama\"], label=\"Select model\", value=\"CodeQwen\")\n",
    "        comment = gr.Button(\"Comment code\")\n",
    "\n",
    "    comment.click(comment_code, inputs=[uncommented, model], outputs=[commented])\n",
    "\n",
    "ui.launch(inbrowser=True)"
   ]
  },
  {
   "cell_type": "code",
   "execution_count": null,
   "id": "08e6e69d-a2f7-497b-86db-a8a45a33ff36",
   "metadata": {},
   "outputs": [],
   "source": []
  }
 ],
 "metadata": {
  "kernelspec": {
   "display_name": "Python 3 (ipykernel)",
   "language": "python",
   "name": "python3"
  },
  "language_info": {
   "codemirror_mode": {
    "name": "ipython",
    "version": 3
   },
   "file_extension": ".py",
   "mimetype": "text/x-python",
   "name": "python",
   "nbconvert_exporter": "python",
   "pygments_lexer": "ipython3",
   "version": "3.11.11"
  }
 },
 "nbformat": 4,
 "nbformat_minor": 5
}
