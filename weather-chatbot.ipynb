{
 "cells": [
  {
   "cell_type": "markdown",
   "id": "504842bc-ec28-40ce-8ff2-0d4efe8deef8",
   "metadata": {},
   "source": [
    "# Weather Chatbot\n",
    "\n",
    "This notebook creates a weather chatbot with whom the user can interactively ask weather-related questions.  \n",
    "\n",
    "The implementation requires the model to interact with two tools:\n",
    "1. Geo coordinate lookup - provides geo coordinates for a given city name\n",
    "1. Weather lookup - provides weather data for given geo coordinates"
   ]
  },
  {
   "cell_type": "code",
   "execution_count": null,
   "id": "61f8e5ce-eb97-46af-9446-e46aef3f476f",
   "metadata": {},
   "outputs": [],
   "source": []
  }
 ],
 "metadata": {
  "kernelspec": {
   "display_name": "Python 3 (ipykernel)",
   "language": "python",
   "name": "python3"
  },
  "language_info": {
   "codemirror_mode": {
    "name": "ipython",
    "version": 3
   },
   "file_extension": ".py",
   "mimetype": "text/x-python",
   "name": "python",
   "nbconvert_exporter": "python",
   "pygments_lexer": "ipython3",
   "version": "3.11.11"
  }
 },
 "nbformat": 4,
 "nbformat_minor": 5
}
