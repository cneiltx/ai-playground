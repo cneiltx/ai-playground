{
 "cells": [
  {
   "cell_type": "markdown",
   "id": "504842bc-ec28-40ce-8ff2-0d4efe8deef8",
   "metadata": {},
   "source": [
    "# Weather Chatbot\n",
    "\n",
    "This notebook creates a weather chatbot with whom the user can interactively ask weather-related questions.  \n",
    "The implementation requires the model to interact with a weather lookup tool."
   ]
  },
  {
   "cell_type": "code",
   "execution_count": null,
   "id": "61f8e5ce-eb97-46af-9446-e46aef3f476f",
   "metadata": {},
   "outputs": [],
   "source": [
    "from dotenv import load_dotenv\n",
    "from openai import OpenAI\n",
    "from datetime import datetime\n",
    "import gradio as gr\n",
    "import urllib.parse\n",
    "import requests\n",
    "import json"
   ]
  },
  {
   "cell_type": "code",
   "execution_count": null,
   "id": "90fe404b-d5ef-4225-a7fc-793d43124399",
   "metadata": {},
   "outputs": [],
   "source": [
    "LLAMA_MODEL = \"llama3.2\"\n",
    "ollama = OpenAI(base_url='http://localhost:11434/v1', api_key='dummy')"
   ]
  },
  {
   "cell_type": "code",
   "execution_count": null,
   "id": "910c0e1b-8993-4a1d-a523-be4a610b2520",
   "metadata": {},
   "outputs": [],
   "source": [
    "cur_date = datetime.today().strftime('%Y-%m-%d')\n",
    "system_prompt = \"You are a weather chatbot that specializes in answering questions about current weather and weather forecasts for global cities. \"\n",
    "system_prompt += \"You can only provide current weather, or forecasts for the past 3 days, current day, or coming 3 days. \"\n",
    "system_prompt += \"If the user asks for weather outside these parameters, politely apologize and state the restrictions. \"\n",
    "system_prompt += f\"Today's date is {cur_date}. \""
   ]
  },
  {
   "cell_type": "code",
   "execution_count": null,
   "id": "b0bc160c-2c82-40d0-83f6-809e035a4233",
   "metadata": {},
   "outputs": [],
   "source": [
    "def geo_lookup(city):\n",
    "    encoded = urllib.parse.quote_plus(city)\n",
    "    response = requests.get(f\"https://geocoding-api.open-meteo.com/v1/search?name={encoded}&count=1&language=en&format=json\")\n",
    "    \n",
    "    if response.status_code == 200:\n",
    "        json_data = response.json()\n",
    "        if 'results' in json_data:\n",
    "            lat = json_data['results'][0]['latitude']\n",
    "            lon = json_data['results'][0]['longitude']\n",
    "            return lat, lon\n",
    "        else:\n",
    "            print(f\"No result found for {city}.\")\n",
    "            return None, None\n",
    "    else:\n",
    "        print(f\"Request failed with status code: {response.status_code}\")\n",
    "        return None, None"
   ]
  },
  {
   "cell_type": "code",
   "execution_count": null,
   "id": "56dea6df-cdd7-4c87-9f56-bcd0f0305d96",
   "metadata": {},
   "outputs": [],
   "source": [
    "def get_forecast(city):\n",
    "    lat, lon = geo_lookup(city)\n",
    "    if lat:\n",
    "        response = requests.get(f\"https://api.open-meteo.com/v1/forecast?latitude={lat}&longitude={lon}&current=temperature_2m,relative_humidity_2m,precipitation,rain,showers,snowfall,weather_code,wind_speed_10m,wind_direction_10m&daily=weather_code,temperature_2m_max,temperature_2m_min,precipitation_sum,rain_sum,showers_sum,snowfall_sum,precipitation_hours,precipitation_probability_max,wind_speed_10m_max,wind_gusts_10m_max,wind_direction_10m_dominant&past_days=3&forecast_days=4\")\n",
    "        \n",
    "        if response.status_code == 200:\n",
    "            json_data = response.json()\n",
    "            print(json_data)\n",
    "            return json_data\n",
    "        else:\n",
    "            print(f\"Request failed with status code: {response.status_code}\")\n",
    "    else:\n",
    "        print(f\"City {city} not found.\")"
   ]
  },
  {
   "cell_type": "code",
   "execution_count": null,
   "id": "2b40a067-4933-4b8f-933c-4a7996b7dd9f",
   "metadata": {},
   "outputs": [],
   "source": [
    "get_forecast(\"Toronto\")"
   ]
  },
  {
   "cell_type": "code",
   "execution_count": null,
   "id": "e45c0bd4-a6ee-4f71-a225-da3574923576",
   "metadata": {},
   "outputs": [],
   "source": [
    "description = \"Get the current weather and past or future weather forecast for a given city name. \"\n",
    "description += \"Call this whenever you need to retrieve weather data, for example when a user asks \"\n",
    "description += \"'What's the current weather in Tokyo?' or 'What is tomorrow's forecast for Toronto?' or 'What was yesterday's weather in Paris?'. \"\n",
    "description += \"You can only retrieve current weather, or forecasts for the past 3 days, current day, or coming 3 days. \"\n",
    "description += \"The relevant weather data can be extracted from the returned JSON data as follows. \"\n",
    "description += \"Current weather data is in the 'current' field. \"\n",
    "description += \"Past, present and future forecast data is in the 'daily' field. \"\n",
    "description += \"Within the 'daily' field, look up the requested date in the 'time' array, then find the forecast details in the other arrays at the corresponding index. \"\n",
    "description += \"Translate weather codes as follows: \"\n",
    "description += \"0-Clear sky, 1-Mainly clear, 2-Partly cloudy, 3-Overcast, 45-Fog, 48-Depositing rime fog, 51-Light drizzle, 53-Moderate drizzle, 55-Dense drizzle, \"\n",
    "description += \"56-Light freezing drizzle, 57-Dense freezing drizzle, 61-Slight rain, 63-Moderate rain, 65-Heavy rain, 66-Light freezing rain, 67-Heavy freezing rain, \"\n",
    "description += \"71-Slight snow fall, 73-Moderate snow fall, 75-Heavy snow fall, 77-Snow grains, 80-Slight rain showers, 81-Moderate rain showers, \"\n",
    "description += \"82-Violent rain showers, 85-Slight snow showers, 86-Heavy snow showers, 95-Thunderstorm, 96-Thunderstorm with slight hail, 99-Thunderstorm with heavy hail. \"\n",
    "\n",
    "forecast_fn = {\n",
    "    \"name\": \"get_forecast\",\n",
    "    \"description\": description,\n",
    "    \"parameters\": {\n",
    "        \"type\": \"object\",\n",
    "        \"properties\": {\n",
    "            \"city\": {\n",
    "                \"type\": \"string\",\n",
    "                \"description\": \"The name of the city for which to retrieve the forecast\",\n",
    "            },\n",
    "        },\n",
    "        \"required\": [\"city\"],\n",
    "        \"additionalProperties\": False\n",
    "    }\n",
    "}"
   ]
  },
  {
   "cell_type": "code",
   "execution_count": null,
   "id": "bc2346d0-bbbc-4d2a-8193-6112a0e39723",
   "metadata": {},
   "outputs": [],
   "source": [
    "tools = [\n",
    "    {\"type\": \"function\", \"function\": forecast_fn},\n",
    "]"
   ]
  },
  {
   "cell_type": "code",
   "execution_count": null,
   "id": "ba7aa375-ac78-4f71-b522-1ad55349ebae",
   "metadata": {},
   "outputs": [],
   "source": [
    "def chat(message, history):\n",
    "    messages = [{\"role\": \"system\", \"content\": system_prompt}] + history + [{\"role\": \"user\", \"content\": message}]\n",
    "    response = ollama.chat.completions.create(model=LLAMA_MODEL, messages=messages, tools=tools)\n",
    "\n",
    "    while response.choices[0].finish_reason==\"tool_calls\":\n",
    "        message = response.choices[0].message\n",
    "        response = handle_tool_call(message)\n",
    "        messages.append(message)\n",
    "        messages.append(response)\n",
    "        response = ollama.chat.completions.create(model=LLAMA_MODEL, messages=messages, tools=tools)\n",
    "    \n",
    "    return response.choices[0].message.content"
   ]
  },
  {
   "cell_type": "code",
   "execution_count": null,
   "id": "54901c3d-07a6-44e0-a57a-6a5490ac5a58",
   "metadata": {},
   "outputs": [],
   "source": [
    "def handle_tool_call(message):\n",
    "    tool_call = message.tool_calls[0]\n",
    "    arguments = json.loads(tool_call.function.arguments)\n",
    "    city = arguments.get('city')\n",
    "    weather = get_forecast(city)\n",
    "    response = {\n",
    "        \"role\": \"tool\",\n",
    "        \"content\": json.dumps(weather),\n",
    "        \"tool_call_id\": tool_call.id\n",
    "    }\n",
    "    return response"
   ]
  },
  {
   "cell_type": "code",
   "execution_count": null,
   "id": "bb55dc96-6a1c-4b8c-8bf9-b6c62e64cb8a",
   "metadata": {},
   "outputs": [],
   "source": [
    "gr.ChatInterface(fn=chat, type=\"messages\").launch(inbrowser=True)"
   ]
  },
  {
   "cell_type": "code",
   "execution_count": null,
   "id": "b60a18a0-f0e0-440a-8dc6-4dc085e8ea90",
   "metadata": {},
   "outputs": [],
   "source": []
  }
 ],
 "metadata": {
  "kernelspec": {
   "display_name": "Python 3 (ipykernel)",
   "language": "python",
   "name": "python3"
  },
  "language_info": {
   "codemirror_mode": {
    "name": "ipython",
    "version": 3
   },
   "file_extension": ".py",
   "mimetype": "text/x-python",
   "name": "python",
   "nbconvert_exporter": "python",
   "pygments_lexer": "ipython3",
   "version": "3.11.11"
  }
 },
 "nbformat": 4,
 "nbformat_minor": 5
}
